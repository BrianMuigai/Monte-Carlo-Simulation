{
 "cells": [
  {
   "cell_type": "markdown",
   "metadata": {},
   "source": [
    "# Monte-Carlo-Simulation\n",
    "a sample usage of Monte Carlo in simulation\n",
    "\n",
    "**Monte-Carlo Simulation**: is a scheme employing random numbers that are \n",
    "$u(0,1)$ random variates. it is used to solve certain stochastic and deterministic problems\n",
    "where the passage of time plays no role. Monte-Carlo-Simulation are \n",
    "generally static rather than dynamic.\n",
    "\n",
    "## Base knowledge\n",
    "**calculus**"
   ]
  },
  {
   "cell_type": "markdown",
   "metadata": {},
   "source": [
    "**Theory of Estimation**"
   ]
  },
  {
   "cell_type": "markdown",
   "metadata": {},
   "source": [
    "**Theory of Hypothesis**"
   ]
  },
  {
   "cell_type": "markdown",
   "metadata": {},
   "source": [
    "## Example\n",
    "Suppose that we want to evaluate\n",
    "$I=\\int_{a}^{b} g(x)dx$\n",
    "where $g(x)$ is a real valued function that is not analytically integrable.\n",
    "This is a deterministic problem and can be approached by Monte-Carlo-Simulation method in the following way:\n",
    "let Y be random variable (b - a)g(x) where X is a continuous random variable distributed uniformly on [a,b], \n",
    "then the expected value of $Y$ is\n"
   ]
  },
  {
   "cell_type": "markdown",
   "metadata": {},
   "source": [
    "$E(y)=E[(b - a)g(x)]$"
   ]
  },
  {
   "cell_type": "markdown",
   "metadata": {},
   "source": [
    "$=(b - a)E[g(x)]$"
   ]
  },
  {
   "cell_type": "markdown",
   "metadata": {},
   "source": [
    "$=(b - a) \\int_{a}^{b} g(x)f(x)dx$"
   ]
  },
  {
   "cell_type": "markdown",
   "metadata": {},
   "source": [
    "$=(b - a) \\frac{ \\int_{a}^{b} g(x)dx }{b - a}$"
   ]
  },
  {
   "cell_type": "markdown",
   "metadata": {},
   "source": [
    "$=I$"
   ]
  },
  {
   "cell_type": "markdown",
   "metadata": {},
   "source": [
    "where $f(x) = \\frac{1}{b - a}$ is the p.d.f of $U(a, b)$ random variables\n",
    "the problem of evaluating the integral has been  reduced to one of estimating the expected value &E(Y). "
   ]
  },
  {
   "cell_type": "markdown",
   "metadata": {},
   "source": [
    "We estimate $E(Y) = I$ by the sample mean"
   ]
  },
  {
   "cell_type": "markdown",
   "metadata": {},
   "source": [
    "$\\bar{Y}(n)=\\frac{\\sum_{i=1}^{n}}{n}$"
   ]
  },
  {
   "cell_type": "markdown",
   "metadata": {},
   "source": [
    "$= \\frac{(b - a)\\sum{i=1}^{n}g(x)}{n}$"
   ]
  },
  {
   "cell_type": "markdown",
   "metadata": {},
   "source": [
    "where $x1, x2, ......, xn$ are IID $U(a, b)$ random variables.\n",
    "$\\bar{Y}$ can be seen as an estimate of a rectangle that has a base of length $b - a$ and height $\\frac{I}{b-a}$ which is a continuous average of $g(x)$ over $[a,b]$. Further, it can be shown that:\n",
    "$E[\\bar{Y}(n)]=I$\n",
    "i.e $\\bar{Y}$ is an unbiased estimate of I and \n",
    "$var[\\bar{Y}(n)]=\\frac{var(Y)}{n}$\n",
    "Assuming that $var(Y)$ is finite, it follows that $\\bar{Y}(n)$ will be arbitrary close to &I& for sufficiently large &n&."
   ]
  },
  {
   "cell_type": "markdown",
   "metadata": {},
   "source": [
    "**sample problem**: \n",
    "$I=\\int_{0}^{\\pi} sin(x)dx$\n",
    "in elementary calculus, $\\int_{0}^{\\pi} sin(x)dx = 2$"
   ]
  },
  {
   "cell_type": "markdown",
   "metadata": {},
   "source": [
    "## Usage\n",
    "first make sure you have java installed in your machine. You have to build Montecarlo.java by typing javac Montecarlo.java\n",
    "after successfull build, run the code by typing java Montecarlo"
   ]
  },
  {
   "cell_type": "markdown",
   "metadata": {},
   "source": [
    "## Conclusion\n",
    "from the output, you will see that the results of i is close to 2. Rounding off will result to 2"
   ]
  },
  {
   "cell_type": "code",
   "execution_count": null,
   "metadata": {},
   "outputs": [],
   "source": []
  }
 ],
 "metadata": {
  "kernelspec": {
   "display_name": "Python 3",
   "language": "python",
   "name": "python3"
  },
  "language_info": {
   "codemirror_mode": {
    "name": "ipython",
    "version": 3
   },
   "file_extension": ".py",
   "mimetype": "text/x-python",
   "name": "python",
   "nbconvert_exporter": "python",
   "pygments_lexer": "ipython3",
   "version": "3.7.0"
  }
 },
 "nbformat": 4,
 "nbformat_minor": 2
}
